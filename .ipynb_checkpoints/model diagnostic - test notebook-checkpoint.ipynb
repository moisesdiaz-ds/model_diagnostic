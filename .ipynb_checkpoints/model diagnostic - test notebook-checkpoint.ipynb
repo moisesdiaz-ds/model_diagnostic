{
 "cells": [
  {
   "cell_type": "code",
   "execution_count": null,
   "id": "49fa344f",
   "metadata": {},
   "outputs": [],
   "source": [
    "#pip install upsetplot"
   ]
  },
  {
   "cell_type": "code",
   "execution_count": 1,
   "id": "326c09e5",
   "metadata": {},
   "outputs": [
    {
     "ename": "ModuleNotFoundError",
     "evalue": "No module named 'upsetplot'",
     "output_type": "error",
     "traceback": [
      "\u001b[1;31m---------------------------------------------------------------------------\u001b[0m",
      "\u001b[1;31mModuleNotFoundError\u001b[0m                       Traceback (most recent call last)",
      "Input \u001b[1;32mIn [1]\u001b[0m, in \u001b[0;36m<cell line: 1>\u001b[1;34m()\u001b[0m\n\u001b[1;32m----> 1\u001b[0m \u001b[38;5;28;01mimport\u001b[39;00m \u001b[38;5;21;01mmodel_diagnostic_utils\u001b[39;00m \u001b[38;5;28;01mas\u001b[39;00m \u001b[38;5;21;01mmd\u001b[39;00m\n\u001b[0;32m      2\u001b[0m \u001b[38;5;28;01mimport\u001b[39;00m \u001b[38;5;21;01mpandas\u001b[39;00m \u001b[38;5;28;01mas\u001b[39;00m \u001b[38;5;21;01mpd\u001b[39;00m\n\u001b[0;32m      3\u001b[0m \u001b[38;5;28;01mfrom\u001b[39;00m \u001b[38;5;21;01msklearn\u001b[39;00m\u001b[38;5;21;01m.\u001b[39;00m\u001b[38;5;21;01mmodel_selection\u001b[39;00m \u001b[38;5;28;01mimport\u001b[39;00m train_test_split\n",
      "File \u001b[1;32m~\\Dropbox\\GitHub dropbox\\Scripts_Python\\model_diagnostic_clean\\model_diagnostic\\model_diagnostic_utils.py:21\u001b[0m, in \u001b[0;36m<module>\u001b[1;34m\u001b[0m\n\u001b[0;32m     19\u001b[0m warnings\u001b[38;5;241m.\u001b[39mfilterwarnings(\u001b[38;5;124m\"\u001b[39m\u001b[38;5;124mignore\u001b[39m\u001b[38;5;124m\"\u001b[39m)\n\u001b[0;32m     20\u001b[0m \u001b[38;5;28;01mfrom\u001b[39;00m \u001b[38;5;21;01mscipy\u001b[39;00m\u001b[38;5;21;01m.\u001b[39;00m\u001b[38;5;21;01mstats\u001b[39;00m \u001b[38;5;28;01mimport\u001b[39;00m ks_2samp\n\u001b[1;32m---> 21\u001b[0m \u001b[38;5;28;01mfrom\u001b[39;00m \u001b[38;5;21;01mupsetplot\u001b[39;00m \u001b[38;5;28;01mimport\u001b[39;00m plot \u001b[38;5;28;01mas\u001b[39;00m plot_upset\n\u001b[0;32m     22\u001b[0m \u001b[38;5;28;01mfrom\u001b[39;00m \u001b[38;5;21;01mtqdm\u001b[39;00m\u001b[38;5;21;01m.\u001b[39;00m\u001b[38;5;21;01mnotebook\u001b[39;00m \u001b[38;5;28;01mimport\u001b[39;00m trange, tqdm\n\u001b[0;32m     23\u001b[0m \u001b[38;5;28;01mimport\u001b[39;00m \u001b[38;5;21;01mshap\u001b[39;00m\n",
      "\u001b[1;31mModuleNotFoundError\u001b[0m: No module named 'upsetplot'"
     ]
    }
   ],
   "source": [
    "import model_diagnostic_utils as md\n",
    "import pandas as pd\n",
    "from sklearn.model_selection import train_test_split"
   ]
  },
  {
   "cell_type": "code",
   "execution_count": null,
   "id": "6bbd2242",
   "metadata": {},
   "outputs": [],
   "source": [
    "df = pd.read_csv('Titanic_train.csv')\n",
    "\n",
    "df = pd.get_dummies(df,columns=['Sex'])\n",
    "features = ['Pclass','Age','Sex_female','Fare']\n",
    "target = 'Survived'\n",
    "X = df[features]\n",
    "y = df[target]\n",
    "X_train, X_test, y_train, y_test = train_test_split(X.reset_index(drop=True), y.reset_index(drop=True), test_size=0.33, random_state=42)"
   ]
  },
  {
   "cell_type": "code",
   "execution_count": null,
   "id": "22f29129",
   "metadata": {},
   "outputs": [],
   "source": [
    "dir_results_files = 'results_files'\n",
    "dir_models = 'models'\n",
    "\n",
    "model_id = 'Your_user_name-21213528'\n",
    "model_id2 = 'Your_user_name-21213533'\n",
    "\n",
    "umbral_elegido = 0.5\n",
    "umbral_elegido2 = 0.5\n",
    "\n",
    "limit_imp = 5\n",
    "\n",
    "model_name = 'Model 1'\n",
    "model_name2 = 'Model 2'\n",
    "\n",
    "data_for_comparison = df[list(X_train.columns)+[target]]"
   ]
  },
  {
   "cell_type": "code",
   "execution_count": null,
   "id": "28138b33",
   "metadata": {},
   "outputs": [],
   "source": []
  },
  {
   "cell_type": "code",
   "execution_count": null,
   "id": "29cc9225",
   "metadata": {
    "scrolled": true
   },
   "outputs": [],
   "source": [
    "dicc_return = md.model_diagnostic(X_train,\n",
    "                    y_train,\n",
    "                    X_test,\n",
    "                    y_test,\n",
    "                    target,\n",
    "                    dir_results_files,\n",
    "                    dir_models,\n",
    "                    model_id,\n",
    "                    model_id2,\n",
    "                    umbral_elegido,\n",
    "                    umbral_elegido2,\n",
    "                    limit_imp,\n",
    "                    model_name,\n",
    "                    model_name2,\n",
    "                    data_for_comparison,\n",
    "                    porcentaje_df_sample=0.7,\n",
    "                    existing_shap_values=None,\n",
    "                    existing_df_shap_values=None,\n",
    "                    existing_shap_values_df_compare=None,\n",
    "                    existing_df_shap_values_df_compare=None,\n",
    "                    truncate_out = 1,\n",
    "                    skew_validation_out_shap = 0,\n",
    "                    use_normal_shap=0,\n",
    "                    sample_size_local_shap = 6,\n",
    "                    specific_rows_local_shap = [0,1,2,3,4,5],\n",
    "                    return_model_metrics=1,\n",
    "                    return_feature_importance_gini=1,\n",
    "                    return_model_calibration_curve=1,\n",
    "                    return_compare_data_dist=1,\n",
    "                    return_performance_by_segment=0,\n",
    "                    return_profiling_false_negatives=0,\n",
    "                    return_shap=1,\n",
    "                    return_shap_df_compare=0,\n",
    "                    return_feature_importance_by_perm=0,\n",
    "                    )"
   ]
  },
  {
   "cell_type": "code",
   "execution_count": null,
   "id": "b97d665b",
   "metadata": {},
   "outputs": [],
   "source": []
  },
  {
   "cell_type": "code",
   "execution_count": null,
   "id": "e6e1bf96",
   "metadata": {},
   "outputs": [],
   "source": []
  },
  {
   "cell_type": "code",
   "execution_count": null,
   "id": "c60a250d",
   "metadata": {},
   "outputs": [],
   "source": []
  },
  {
   "cell_type": "code",
   "execution_count": null,
   "id": "40e0a368",
   "metadata": {},
   "outputs": [],
   "source": []
  },
  {
   "cell_type": "code",
   "execution_count": null,
   "id": "5ef45213",
   "metadata": {},
   "outputs": [],
   "source": []
  },
  {
   "cell_type": "code",
   "execution_count": null,
   "id": "88004500",
   "metadata": {},
   "outputs": [],
   "source": []
  }
 ],
 "metadata": {
  "kernelspec": {
   "display_name": "Python 3 (ipykernel)",
   "language": "python",
   "name": "python3"
  },
  "language_info": {
   "codemirror_mode": {
    "name": "ipython",
    "version": 3
   },
   "file_extension": ".py",
   "mimetype": "text/x-python",
   "name": "python",
   "nbconvert_exporter": "python",
   "pygments_lexer": "ipython3",
   "version": "3.9.12"
  }
 },
 "nbformat": 4,
 "nbformat_minor": 5
}
